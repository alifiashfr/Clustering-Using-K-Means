{
  "nbformat": 4,
  "nbformat_minor": 0,
  "metadata": {
    "colab": {
      "name": "Project01ML_1301194102.ipynb",
      "provenance": [],
      "collapsed_sections": []
    },
    "kernelspec": {
      "name": "python3",
      "display_name": "Python 3"
    },
    "language_info": {
      "name": "python"
    }
  },
  "cells": [
    {
      "cell_type": "markdown",
      "metadata": {
        "id": "hV-KYgFo42Xo"
      },
      "source": [
        "**Alifia Shafira**\n",
        "\n",
        "**1301194102**\n",
        "\n",
        "**IF-43-04**"
      ]
    },
    {
      "cell_type": "markdown",
      "metadata": {
        "id": "l5qCYSik5Kp5"
      },
      "source": [
        "Library yang Digunakan"
      ]
    },
    {
      "cell_type": "code",
      "metadata": {
        "id": "VcMZROYHLIcE"
      },
      "source": [
        "import random\n",
        "import numpy as np\n",
        "import pandas as pd\n",
        "import seaborn as sns\n",
        "import matplotlib.pyplot as plt\n",
        "from sklearn.datasets import load_iris\n",
        "from sklearn.preprocessing import MinMaxScaler\n",
        "from sklearn.cluster import KMeans #untuk pengecekan di akhir"
      ],
      "execution_count": 353,
      "outputs": []
    },
    {
      "cell_type": "markdown",
      "metadata": {
        "id": "_qu5VfNl4z2Q"
      },
      "source": [
        "Eksplorasi & Preprocessing Data (Cleansing, Scaling)"
      ]
    },
    {
      "cell_type": "code",
      "metadata": {
        "colab": {
          "base_uri": "https://localhost:8080/",
          "height": 206
        },
        "id": "YKOFJFBDWssj",
        "outputId": "70d3c405-4591-459d-ba20-89c4b939d254"
      },
      "source": [
        "#membaca dataset csv dan memasukkan ke variabel data\n",
        "data = pd.read_csv('kendaraan_train.csv')\n",
        "data.head()"
      ],
      "execution_count": 354,
      "outputs": [
        {
          "output_type": "execute_result",
          "data": {
            "text/html": [
              "<div>\n",
              "<style scoped>\n",
              "    .dataframe tbody tr th:only-of-type {\n",
              "        vertical-align: middle;\n",
              "    }\n",
              "\n",
              "    .dataframe tbody tr th {\n",
              "        vertical-align: top;\n",
              "    }\n",
              "\n",
              "    .dataframe thead th {\n",
              "        text-align: right;\n",
              "    }\n",
              "</style>\n",
              "<table border=\"1\" class=\"dataframe\">\n",
              "  <thead>\n",
              "    <tr style=\"text-align: right;\">\n",
              "      <th></th>\n",
              "      <th>id</th>\n",
              "      <th>Jenis_Kelamin</th>\n",
              "      <th>Umur</th>\n",
              "      <th>SIM</th>\n",
              "      <th>Kode_Daerah</th>\n",
              "      <th>Sudah_Asuransi</th>\n",
              "      <th>Umur_Kendaraan</th>\n",
              "      <th>Kendaraan_Rusak</th>\n",
              "      <th>Premi</th>\n",
              "      <th>Kanal_Penjualan</th>\n",
              "      <th>Lama_Berlangganan</th>\n",
              "      <th>Tertarik</th>\n",
              "    </tr>\n",
              "  </thead>\n",
              "  <tbody>\n",
              "    <tr>\n",
              "      <th>0</th>\n",
              "      <td>1</td>\n",
              "      <td>Wanita</td>\n",
              "      <td>30.0</td>\n",
              "      <td>1.0</td>\n",
              "      <td>33.0</td>\n",
              "      <td>1.0</td>\n",
              "      <td>&lt; 1 Tahun</td>\n",
              "      <td>Tidak</td>\n",
              "      <td>28029.0</td>\n",
              "      <td>152.0</td>\n",
              "      <td>97.0</td>\n",
              "      <td>0</td>\n",
              "    </tr>\n",
              "    <tr>\n",
              "      <th>1</th>\n",
              "      <td>2</td>\n",
              "      <td>Pria</td>\n",
              "      <td>48.0</td>\n",
              "      <td>1.0</td>\n",
              "      <td>39.0</td>\n",
              "      <td>0.0</td>\n",
              "      <td>&gt; 2 Tahun</td>\n",
              "      <td>Pernah</td>\n",
              "      <td>25800.0</td>\n",
              "      <td>29.0</td>\n",
              "      <td>158.0</td>\n",
              "      <td>0</td>\n",
              "    </tr>\n",
              "    <tr>\n",
              "      <th>2</th>\n",
              "      <td>3</td>\n",
              "      <td>NaN</td>\n",
              "      <td>21.0</td>\n",
              "      <td>1.0</td>\n",
              "      <td>46.0</td>\n",
              "      <td>1.0</td>\n",
              "      <td>&lt; 1 Tahun</td>\n",
              "      <td>Tidak</td>\n",
              "      <td>32733.0</td>\n",
              "      <td>160.0</td>\n",
              "      <td>119.0</td>\n",
              "      <td>0</td>\n",
              "    </tr>\n",
              "    <tr>\n",
              "      <th>3</th>\n",
              "      <td>4</td>\n",
              "      <td>Wanita</td>\n",
              "      <td>58.0</td>\n",
              "      <td>1.0</td>\n",
              "      <td>48.0</td>\n",
              "      <td>0.0</td>\n",
              "      <td>1-2 Tahun</td>\n",
              "      <td>Tidak</td>\n",
              "      <td>2630.0</td>\n",
              "      <td>124.0</td>\n",
              "      <td>63.0</td>\n",
              "      <td>0</td>\n",
              "    </tr>\n",
              "    <tr>\n",
              "      <th>4</th>\n",
              "      <td>5</td>\n",
              "      <td>Pria</td>\n",
              "      <td>50.0</td>\n",
              "      <td>1.0</td>\n",
              "      <td>35.0</td>\n",
              "      <td>0.0</td>\n",
              "      <td>&gt; 2 Tahun</td>\n",
              "      <td>NaN</td>\n",
              "      <td>34857.0</td>\n",
              "      <td>88.0</td>\n",
              "      <td>194.0</td>\n",
              "      <td>0</td>\n",
              "    </tr>\n",
              "  </tbody>\n",
              "</table>\n",
              "</div>"
            ],
            "text/plain": [
              "   id Jenis_Kelamin  Umur  ...  Kanal_Penjualan  Lama_Berlangganan  Tertarik\n",
              "0   1        Wanita  30.0  ...            152.0               97.0         0\n",
              "1   2          Pria  48.0  ...             29.0              158.0         0\n",
              "2   3           NaN  21.0  ...            160.0              119.0         0\n",
              "3   4        Wanita  58.0  ...            124.0               63.0         0\n",
              "4   5          Pria  50.0  ...             88.0              194.0         0\n",
              "\n",
              "[5 rows x 12 columns]"
            ]
          },
          "metadata": {},
          "execution_count": 354
        }
      ]
    },
    {
      "cell_type": "code",
      "metadata": {
        "colab": {
          "base_uri": "https://localhost:8080/"
        },
        "id": "UXYaQoBvL3I-",
        "outputId": "af7d76bf-f87d-48b9-cb51-029258ba784a"
      },
      "source": [
        "#menghitung ada berapa data\n",
        "data.count"
      ],
      "execution_count": 355,
      "outputs": [
        {
          "output_type": "execute_result",
          "data": {
            "text/plain": [
              "<bound method DataFrame.count of             id Jenis_Kelamin  ...  Lama_Berlangganan  Tertarik\n",
              "0            1        Wanita  ...               97.0         0\n",
              "1            2          Pria  ...              158.0         0\n",
              "2            3           NaN  ...              119.0         0\n",
              "3            4        Wanita  ...               63.0         0\n",
              "4            5          Pria  ...              194.0         0\n",
              "...        ...           ...  ...                ...       ...\n",
              "285826  285827        Wanita  ...              217.0         0\n",
              "285827  285828        Wanita  ...               50.0         0\n",
              "285828  285829        Wanita  ...              226.0         0\n",
              "285829  285830          Pria  ...              270.0         0\n",
              "285830  285831          Pria  ...               44.0         0\n",
              "\n",
              "[285831 rows x 12 columns]>"
            ]
          },
          "metadata": {},
          "execution_count": 355
        }
      ]
    },
    {
      "cell_type": "code",
      "metadata": {
        "colab": {
          "base_uri": "https://localhost:8080/"
        },
        "id": "ODKiE8HYMW6Y",
        "outputId": "547a3c96-638f-4b68-9e9f-ed0a0d5c4ebc"
      },
      "source": [
        "#melihat jenis-jenis tipe data pada dataset\n",
        "data.dtypes"
      ],
      "execution_count": 356,
      "outputs": [
        {
          "output_type": "execute_result",
          "data": {
            "text/plain": [
              "id                     int64\n",
              "Jenis_Kelamin         object\n",
              "Umur                 float64\n",
              "SIM                  float64\n",
              "Kode_Daerah          float64\n",
              "Sudah_Asuransi       float64\n",
              "Umur_Kendaraan        object\n",
              "Kendaraan_Rusak       object\n",
              "Premi                float64\n",
              "Kanal_Penjualan      float64\n",
              "Lama_Berlangganan    float64\n",
              "Tertarik               int64\n",
              "dtype: object"
            ]
          },
          "metadata": {},
          "execution_count": 356
        }
      ]
    },
    {
      "cell_type": "code",
      "metadata": {
        "id": "vjfZYvKo5bpH",
        "colab": {
          "base_uri": "https://localhost:8080/"
        },
        "outputId": "4391e01b-0f35-4187-b3bb-ceb447cc868c"
      },
      "source": [
        "#mengecek apakah ada nilai yang kosong\n",
        "data.isna().sum()"
      ],
      "execution_count": 357,
      "outputs": [
        {
          "output_type": "execute_result",
          "data": {
            "text/plain": [
              "id                       0\n",
              "Jenis_Kelamin        14440\n",
              "Umur                 14214\n",
              "SIM                  14404\n",
              "Kode_Daerah          14306\n",
              "Sudah_Asuransi       14229\n",
              "Umur_Kendaraan       14275\n",
              "Kendaraan_Rusak      14188\n",
              "Premi                14569\n",
              "Kanal_Penjualan      14299\n",
              "Lama_Berlangganan    13992\n",
              "Tertarik                 0\n",
              "dtype: int64"
            ]
          },
          "metadata": {},
          "execution_count": 357
        }
      ]
    },
    {
      "cell_type": "code",
      "metadata": {
        "id": "ELLgOE42WzeG"
      },
      "source": [
        "#untuk mendrop semua elemen yang ada nilai kosongnya\n",
        "data = data.dropna()"
      ],
      "execution_count": 358,
      "outputs": []
    },
    {
      "cell_type": "code",
      "metadata": {
        "id": "kHfFMO3JXVEo",
        "colab": {
          "base_uri": "https://localhost:8080/"
        },
        "outputId": "a1419931-3e0d-4639-835e-89c198c9e2f5"
      },
      "source": [
        "#mengecek apakah masih ada nilai kosongnya\n",
        "data.isna().sum()"
      ],
      "execution_count": 359,
      "outputs": [
        {
          "output_type": "execute_result",
          "data": {
            "text/plain": [
              "id                   0\n",
              "Jenis_Kelamin        0\n",
              "Umur                 0\n",
              "SIM                  0\n",
              "Kode_Daerah          0\n",
              "Sudah_Asuransi       0\n",
              "Umur_Kendaraan       0\n",
              "Kendaraan_Rusak      0\n",
              "Premi                0\n",
              "Kanal_Penjualan      0\n",
              "Lama_Berlangganan    0\n",
              "Tertarik             0\n",
              "dtype: int64"
            ]
          },
          "metadata": {},
          "execution_count": 359
        }
      ]
    },
    {
      "cell_type": "code",
      "metadata": {
        "colab": {
          "base_uri": "https://localhost:8080/",
          "height": 331
        },
        "id": "dZWpUfqPX1G7",
        "outputId": "022f84b4-6a06-426a-cc47-8b05354f55f0"
      },
      "source": [
        "#melihat korelasi data\n",
        "data.corr()"
      ],
      "execution_count": 360,
      "outputs": [
        {
          "output_type": "execute_result",
          "data": {
            "text/html": [
              "<div>\n",
              "<style scoped>\n",
              "    .dataframe tbody tr th:only-of-type {\n",
              "        vertical-align: middle;\n",
              "    }\n",
              "\n",
              "    .dataframe tbody tr th {\n",
              "        vertical-align: top;\n",
              "    }\n",
              "\n",
              "    .dataframe thead th {\n",
              "        text-align: right;\n",
              "    }\n",
              "</style>\n",
              "<table border=\"1\" class=\"dataframe\">\n",
              "  <thead>\n",
              "    <tr style=\"text-align: right;\">\n",
              "      <th></th>\n",
              "      <th>id</th>\n",
              "      <th>Umur</th>\n",
              "      <th>SIM</th>\n",
              "      <th>Kode_Daerah</th>\n",
              "      <th>Sudah_Asuransi</th>\n",
              "      <th>Premi</th>\n",
              "      <th>Kanal_Penjualan</th>\n",
              "      <th>Lama_Berlangganan</th>\n",
              "      <th>Tertarik</th>\n",
              "    </tr>\n",
              "  </thead>\n",
              "  <tbody>\n",
              "    <tr>\n",
              "      <th>id</th>\n",
              "      <td>1.000000</td>\n",
              "      <td>0.003523</td>\n",
              "      <td>-0.004080</td>\n",
              "      <td>0.000719</td>\n",
              "      <td>-0.003694</td>\n",
              "      <td>0.002145</td>\n",
              "      <td>-0.001707</td>\n",
              "      <td>0.002600</td>\n",
              "      <td>0.000004</td>\n",
              "    </tr>\n",
              "    <tr>\n",
              "      <th>Umur</th>\n",
              "      <td>0.003523</td>\n",
              "      <td>1.000000</td>\n",
              "      <td>-0.078543</td>\n",
              "      <td>0.044256</td>\n",
              "      <td>-0.256815</td>\n",
              "      <td>0.063838</td>\n",
              "      <td>-0.576009</td>\n",
              "      <td>-0.001032</td>\n",
              "      <td>0.108912</td>\n",
              "    </tr>\n",
              "    <tr>\n",
              "      <th>SIM</th>\n",
              "      <td>-0.004080</td>\n",
              "      <td>-0.078543</td>\n",
              "      <td>1.000000</td>\n",
              "      <td>-0.005862</td>\n",
              "      <td>0.016459</td>\n",
              "      <td>-0.012864</td>\n",
              "      <td>0.041575</td>\n",
              "      <td>0.001739</td>\n",
              "      <td>0.008675</td>\n",
              "    </tr>\n",
              "    <tr>\n",
              "      <th>Kode_Daerah</th>\n",
              "      <td>0.000719</td>\n",
              "      <td>0.044256</td>\n",
              "      <td>-0.005862</td>\n",
              "      <td>1.000000</td>\n",
              "      <td>-0.024393</td>\n",
              "      <td>-0.012462</td>\n",
              "      <td>-0.043988</td>\n",
              "      <td>-0.003798</td>\n",
              "      <td>0.011152</td>\n",
              "    </tr>\n",
              "    <tr>\n",
              "      <th>Sudah_Asuransi</th>\n",
              "      <td>-0.003694</td>\n",
              "      <td>-0.256815</td>\n",
              "      <td>0.016459</td>\n",
              "      <td>-0.024393</td>\n",
              "      <td>1.000000</td>\n",
              "      <td>0.003988</td>\n",
              "      <td>0.221583</td>\n",
              "      <td>0.002902</td>\n",
              "      <td>-0.340711</td>\n",
              "    </tr>\n",
              "    <tr>\n",
              "      <th>Premi</th>\n",
              "      <td>0.002145</td>\n",
              "      <td>0.063838</td>\n",
              "      <td>-0.012864</td>\n",
              "      <td>-0.012462</td>\n",
              "      <td>0.003988</td>\n",
              "      <td>1.000000</td>\n",
              "      <td>-0.112297</td>\n",
              "      <td>-0.001260</td>\n",
              "      <td>0.021890</td>\n",
              "    </tr>\n",
              "    <tr>\n",
              "      <th>Kanal_Penjualan</th>\n",
              "      <td>-0.001707</td>\n",
              "      <td>-0.576009</td>\n",
              "      <td>0.041575</td>\n",
              "      <td>-0.043988</td>\n",
              "      <td>0.221583</td>\n",
              "      <td>-0.112297</td>\n",
              "      <td>1.000000</td>\n",
              "      <td>0.000878</td>\n",
              "      <td>-0.140968</td>\n",
              "    </tr>\n",
              "    <tr>\n",
              "      <th>Lama_Berlangganan</th>\n",
              "      <td>0.002600</td>\n",
              "      <td>-0.001032</td>\n",
              "      <td>0.001739</td>\n",
              "      <td>-0.003798</td>\n",
              "      <td>0.002902</td>\n",
              "      <td>-0.001260</td>\n",
              "      <td>0.000878</td>\n",
              "      <td>1.000000</td>\n",
              "      <td>0.002143</td>\n",
              "    </tr>\n",
              "    <tr>\n",
              "      <th>Tertarik</th>\n",
              "      <td>0.000004</td>\n",
              "      <td>0.108912</td>\n",
              "      <td>0.008675</td>\n",
              "      <td>0.011152</td>\n",
              "      <td>-0.340711</td>\n",
              "      <td>0.021890</td>\n",
              "      <td>-0.140968</td>\n",
              "      <td>0.002143</td>\n",
              "      <td>1.000000</td>\n",
              "    </tr>\n",
              "  </tbody>\n",
              "</table>\n",
              "</div>"
            ],
            "text/plain": [
              "                         id      Umur  ...  Lama_Berlangganan  Tertarik\n",
              "id                 1.000000  0.003523  ...           0.002600  0.000004\n",
              "Umur               0.003523  1.000000  ...          -0.001032  0.108912\n",
              "SIM               -0.004080 -0.078543  ...           0.001739  0.008675\n",
              "Kode_Daerah        0.000719  0.044256  ...          -0.003798  0.011152\n",
              "Sudah_Asuransi    -0.003694 -0.256815  ...           0.002902 -0.340711\n",
              "Premi              0.002145  0.063838  ...          -0.001260  0.021890\n",
              "Kanal_Penjualan   -0.001707 -0.576009  ...           0.000878 -0.140968\n",
              "Lama_Berlangganan  0.002600 -0.001032  ...           1.000000  0.002143\n",
              "Tertarik           0.000004  0.108912  ...           0.002143  1.000000\n",
              "\n",
              "[9 rows x 9 columns]"
            ]
          },
          "metadata": {},
          "execution_count": 360
        }
      ]
    },
    {
      "cell_type": "code",
      "metadata": {
        "colab": {
          "base_uri": "https://localhost:8080/",
          "height": 705
        },
        "id": "U8LvU8G6OjcC",
        "outputId": "c91d3d66-27b0-4a25-fc5f-59d07f98e20c"
      },
      "source": [
        "#mengecek korelasi antar data dengan heatmap\n",
        "plt.figure(figsize=(15,10))\n",
        "sns.heatmap(data.corr(), annot = True)"
      ],
      "execution_count": 361,
      "outputs": [
        {
          "output_type": "execute_result",
          "data": {
            "text/plain": [
              "<matplotlib.axes._subplots.AxesSubplot at 0x7fec4d143050>"
            ]
          },
          "metadata": {},
          "execution_count": 361
        },
        {
          "output_type": "display_data",
          "data": {
            "image/png": "[encoded data removed]",
            "text/plain": [
              "<Figure size 1080x720 with 2 Axes>"
            ]
          },
          "metadata": {
            "needs_background": "light"
          }
        }
      ]
    },
    {
      "cell_type": "code",
      "metadata": {
        "colab": {
          "base_uri": "https://localhost:8080/",
          "height": 265
        },
        "id": "z0cLBJddTmvr",
        "outputId": "2170e014-a418-4d30-b5e1-942049a551ca"
      },
      "source": [
        "#mengecek outliers pada dataset\n",
        "plt.boxplot(data['Umur'])\n",
        "plt.show()\n",
        "#hasil menunjukkan tidak ada outlier"
      ],
      "execution_count": 362,
      "outputs": [
        {
          "output_type": "display_data",
          "data": {
            "image/png": "[encoded data removed]",
            "text/plain": [
              "<Figure size 432x288 with 1 Axes>"
            ]
          },
          "metadata": {
            "needs_background": "light"
          }
        }
      ]
    },
    {
      "cell_type": "code",
      "metadata": {
        "colab": {
          "base_uri": "https://localhost:8080/",
          "height": 265
        },
        "id": "WopcGadsU_Wu",
        "outputId": "a5c0bf69-98f9-42a5-d721-9b0f1ff9f4db"
      },
      "source": [
        "#mengecek outliers pada dataset\n",
        "plt.boxplot(data['Kanal_Penjualan'])\n",
        "plt.show()\n",
        "#hasil menunjukkan tidak ada outlier"
      ],
      "execution_count": 363,
      "outputs": [
        {
          "output_type": "display_data",
          "data": {
            "image/png": "[encoded data removed]",
            "text/plain": [
              "<Figure size 432x288 with 1 Axes>"
            ]
          },
          "metadata": {
            "needs_background": "light"
          }
        }
      ]
    },
    {
      "cell_type": "code",
      "metadata": {
        "colab": {
          "base_uri": "https://localhost:8080/"
        },
        "id": "DGeSje6hWNr2",
        "outputId": "69f254e7-e435-485f-edf2-86f42006ae8c"
      },
      "source": [
        "#mengecek apakah ada data yang duplikat\n",
        "data['Umur'].duplicated()"
      ],
      "execution_count": 364,
      "outputs": [
        {
          "output_type": "execute_result",
          "data": {
            "text/plain": [
              "0         False\n",
              "1         False\n",
              "3         False\n",
              "5         False\n",
              "8         False\n",
              "          ...  \n",
              "285826     True\n",
              "285827     True\n",
              "285828     True\n",
              "285829     True\n",
              "285830     True\n",
              "Name: Umur, Length: 171068, dtype: bool"
            ]
          },
          "metadata": {},
          "execution_count": 364
        }
      ]
    },
    {
      "cell_type": "code",
      "metadata": {
        "colab": {
          "base_uri": "https://localhost:8080/"
        },
        "id": "iMxt_I6gWii0",
        "outputId": "bc6f5922-e514-4a2d-8a13-aa10132a0012"
      },
      "source": [
        "#mengecek apakah ada data yang duplikat\n",
        "data['Kanal_Penjualan'].duplicated()"
      ],
      "execution_count": 365,
      "outputs": [
        {
          "output_type": "execute_result",
          "data": {
            "text/plain": [
              "0         False\n",
              "1         False\n",
              "3         False\n",
              "5          True\n",
              "8         False\n",
              "          ...  \n",
              "285826     True\n",
              "285827     True\n",
              "285828     True\n",
              "285829     True\n",
              "285830     True\n",
              "Name: Kanal_Penjualan, Length: 171068, dtype: bool"
            ]
          },
          "metadata": {},
          "execution_count": 365
        }
      ]
    },
    {
      "cell_type": "code",
      "metadata": {
        "colab": {
          "base_uri": "https://localhost:8080/"
        },
        "id": "jjIHPn1SXvnJ",
        "outputId": "7ce8228a-758b-40ba-ca34-027c409f1801"
      },
      "source": [
        "#mendrop data yang duplikat\n",
        "copyData = data[['Umur','Kanal_Penjualan']]\n",
        "copyData.drop_duplicates(inplace=True)"
      ],
      "execution_count": 366,
      "outputs": [
        {
          "output_type": "stream",
          "name": "stderr",
          "text": [
            "/usr/local/lib/python3.7/dist-packages/ipykernel_launcher.py:3: SettingWithCopyWarning: \n",
            "A value is trying to be set on a copy of a slice from a DataFrame\n",
            "\n",
            "See the caveats in the documentation: https://pandas.pydata.org/pandas-docs/stable/user_guide/indexing.html#returning-a-view-versus-a-copy\n",
            "  This is separate from the ipykernel package so we can avoid doing imports until\n"
          ]
        }
      ]
    },
    {
      "cell_type": "code",
      "metadata": {
        "colab": {
          "base_uri": "https://localhost:8080/"
        },
        "id": "sFWzuRBZfkx_",
        "outputId": "d8046ec4-c133-4c80-b1d3-4f466d3409d4"
      },
      "source": [
        "#mengecek kembali apa masih ada duplikat data\n",
        "copyData.duplicated().any()"
      ],
      "execution_count": 367,
      "outputs": [
        {
          "output_type": "execute_result",
          "data": {
            "text/plain": [
              "False"
            ]
          },
          "metadata": {},
          "execution_count": 367
        }
      ]
    },
    {
      "cell_type": "code",
      "metadata": {
        "colab": {
          "base_uri": "https://localhost:8080/"
        },
        "id": "WFi-kGkrcch4",
        "outputId": "ab20e8b9-956d-4658-9506-d189ff4897f9"
      },
      "source": [
        "#mengecek jumlah data yang ada\n",
        "copyData.count"
      ],
      "execution_count": 368,
      "outputs": [
        {
          "output_type": "execute_result",
          "data": {
            "text/plain": [
              "<bound method DataFrame.count of         Umur  Kanal_Penjualan\n",
              "0       30.0            152.0\n",
              "1       48.0             29.0\n",
              "3       58.0            124.0\n",
              "5       21.0            152.0\n",
              "8       20.0            160.0\n",
              "...      ...              ...\n",
              "282832  46.0             56.0\n",
              "283304  57.0             91.0\n",
              "284121  31.0             11.0\n",
              "284919  36.0            113.0\n",
              "285165  30.0            127.0\n",
              "\n",
              "[3452 rows x 2 columns]>"
            ]
          },
          "metadata": {},
          "execution_count": 368
        }
      ]
    },
    {
      "cell_type": "code",
      "metadata": {
        "colab": {
          "base_uri": "https://localhost:8080/",
          "height": 206
        },
        "id": "Rt24cSKwprgw",
        "outputId": "d08ea5a8-cebc-450e-a2cf-b6385c4fe5e8"
      },
      "source": [
        "#melakukan scaling dengan library yang tersedia, metode yang digunakan yaitu Min Max Normalization\n",
        "beforeScaling = MinMaxScaler()\n",
        "afterScaling = beforeScaling.fit_transform(copyData)\n",
        "finalData = pd.DataFrame(afterScaling, columns = ['Umur', 'Kanal_Penjualan'])\n",
        "finalData.to_csv('finalData.csv')\n",
        "dataForUse = pd.read_csv('finalData.csv')\n",
        "dataForUse.drop(dataForUse.columns[0], axis=1, inplace=True)\n",
        "dataForUse.head()"
      ],
      "execution_count": 369,
      "outputs": [
        {
          "output_type": "execute_result",
          "data": {
            "text/html": [
              "<div>\n",
              "<style scoped>\n",
              "    .dataframe tbody tr th:only-of-type {\n",
              "        vertical-align: middle;\n",
              "    }\n",
              "\n",
              "    .dataframe tbody tr th {\n",
              "        vertical-align: top;\n",
              "    }\n",
              "\n",
              "    .dataframe thead th {\n",
              "        text-align: right;\n",
              "    }\n",
              "</style>\n",
              "<table border=\"1\" class=\"dataframe\">\n",
              "  <thead>\n",
              "    <tr style=\"text-align: right;\">\n",
              "      <th></th>\n",
              "      <th>Umur</th>\n",
              "      <th>Kanal_Penjualan</th>\n",
              "    </tr>\n",
              "  </thead>\n",
              "  <tbody>\n",
              "    <tr>\n",
              "      <th>0</th>\n",
              "      <td>0.153846</td>\n",
              "      <td>0.932099</td>\n",
              "    </tr>\n",
              "    <tr>\n",
              "      <th>1</th>\n",
              "      <td>0.430769</td>\n",
              "      <td>0.172840</td>\n",
              "    </tr>\n",
              "    <tr>\n",
              "      <th>2</th>\n",
              "      <td>0.584615</td>\n",
              "      <td>0.759259</td>\n",
              "    </tr>\n",
              "    <tr>\n",
              "      <th>3</th>\n",
              "      <td>0.015385</td>\n",
              "      <td>0.932099</td>\n",
              "    </tr>\n",
              "    <tr>\n",
              "      <th>4</th>\n",
              "      <td>0.000000</td>\n",
              "      <td>0.981481</td>\n",
              "    </tr>\n",
              "  </tbody>\n",
              "</table>\n",
              "</div>"
            ],
            "text/plain": [
              "       Umur  Kanal_Penjualan\n",
              "0  0.153846         0.932099\n",
              "1  0.430769         0.172840\n",
              "2  0.584615         0.759259\n",
              "3  0.015385         0.932099\n",
              "4  0.000000         0.981481"
            ]
          },
          "metadata": {},
          "execution_count": 369
        }
      ]
    },
    {
      "cell_type": "code",
      "metadata": {
        "colab": {
          "base_uri": "https://localhost:8080/"
        },
        "id": "H6f_UhlnxnwM",
        "outputId": "976cd97e-0059-46cc-ef4d-3fd4becfb076"
      },
      "source": [
        "x = dataForUse.iloc[:, [0,1]].values\n",
        "print(x)"
      ],
      "execution_count": 370,
      "outputs": [
        {
          "output_type": "stream",
          "name": "stdout",
          "text": [
            "[[0.15384615 0.93209877]\n",
            " [0.43076923 0.17283951]\n",
            " [0.58461538 0.75925926]\n",
            " ...\n",
            " [0.16923077 0.0617284 ]\n",
            " [0.24615385 0.69135802]\n",
            " [0.15384615 0.77777778]]\n"
          ]
        }
      ]
    },
    {
      "cell_type": "markdown",
      "metadata": {
        "id": "bywFAUF7uhPa"
      },
      "source": [
        "KMeans"
      ]
    },
    {
      "cell_type": "code",
      "metadata": {
        "colab": {
          "base_uri": "https://localhost:8080/",
          "height": 299
        },
        "id": "8HaTCLsQNnzj",
        "outputId": "1473563e-99e2-4384-cafc-326d5847d006"
      },
      "source": [
        "Umur = x[:,0]\n",
        "KanalPenjualan = x[:,1]\n",
        "plt.scatter(Umur, KanalPenjualan)\n",
        "plt.title('Sebelum Clustering')"
      ],
      "execution_count": 371,
      "outputs": [
        {
          "output_type": "execute_result",
          "data": {
            "text/plain": [
              "Text(0.5, 1.0, 'Sebelum Clustering')"
            ]
          },
          "metadata": {},
          "execution_count": 371
        },
        {
          "output_type": "display_data",
          "data": {
            "image/png": "[encoded data removed]",
            "text/plain": [
              "<Figure size 432x288 with 1 Axes>"
            ]
          },
          "metadata": {
            "needs_background": "light"
          }
        }
      ]
    },
    {
      "cell_type": "code",
      "metadata": {
        "id": "3obBd79ttr4i"
      },
      "source": [
        "def randomCentroid(k, x, baris):\n",
        "  #memasukkan nilai random centroid ke dalam array\n",
        "\n",
        "  allCentroid = np.array([]). reshape(kolom,0)\n",
        "  for i in range(k):\n",
        "    allCentroid = np.c_[allCentroid, x[random.randint(0, baris-1)]]\n",
        "\n",
        "  return allCentroid"
      ],
      "execution_count": 372,
      "outputs": []
    },
    {
      "cell_type": "code",
      "metadata": {
        "id": "WvmmuG-BvSmA"
      },
      "source": [
        "def countEuclidean(k, x, allCentroid):\n",
        "  #memasukkan nilai jarak eculidean ke dalam array\n",
        "\n",
        "  allEuclid = np.array([]).reshape(baris,0)\n",
        "  for i in range(k):\n",
        "    distance = np.sum((x-allCentroid[:,i])**2, axis = 1)\n",
        "    allEuclid = np.c_[allEuclid, distance]\n",
        "\n",
        "  return allEuclid"
      ],
      "execution_count": 373,
      "outputs": []
    },
    {
      "cell_type": "code",
      "metadata": {
        "id": "b43CnkAuyAcf"
      },
      "source": [
        "def clusterAssign(baris, k, x, min, allCentroid):\n",
        "  #menghitung rata-rata dari cluster yang terpisah\n",
        "  centroid ={}\n",
        "  for i in range(k):\n",
        "    centroid[i+1] = np.array([]).reshape(2,0)\n",
        "\n",
        "  #memasukkan cluster ke titik\n",
        "  for i in range(baris):\n",
        "    centroid[min[i]] = np.c_[centroid[min[i]], x[i]]\n",
        "\n",
        "  for i in range(k):\n",
        "    centroid[i+1] = centroid[i+1].T\n",
        "\n",
        "  #hitung rata-ratanya dan perbarui nilai centroid\n",
        "  for i in range(k):\n",
        "    allCentroid[:,i] = np.mean(centroid[i+1], axis = 0)\n",
        "\n",
        "  return centroid"
      ],
      "execution_count": 385,
      "outputs": []
    },
    {
      "cell_type": "code",
      "metadata": {
        "id": "RGFKsIgiOAAY"
      },
      "source": [
        "baris = dataForUse.shape[0] #sebanyak datanya\n",
        "kolom = 2 #sebanyak variabel yang dipakai (umur dan kanal penjualan)\n",
        "iteration = 3\n",
        "x = dataForUse.iloc[:, [0,1]].values\n",
        "#berdasarkan hasil elbow method\n",
        "k = 3\n",
        "\n",
        "allCentroid = randomCentroid(k, x, baris)\n",
        "allEuclid = countEuclidean(k, x, allCentroid)\n",
        "#dicari nilai minimumnya\n",
        "min = np.argmin(allEuclid, axis = 1) + 1\n",
        "centroid = clusterAssign(baris, k, x, min, allCentroid)\n",
        "\n",
        "\n",
        "#sama seperti diatas tapi dilakukan iterasi berulang kali \n",
        "for i in range(iteration):\n",
        "  allEuclid = countEuclidean(k, x, allCentroid)\n",
        "  cent = np.argmin(allEuclid, axis = 1) + 1\n",
        "  centroid = {}  \n",
        "  centroid = clusterAssign(baris, k, x, min, allCentroid)\n",
        "\n",
        "  final = centroid\n"
      ],
      "execution_count": 387,
      "outputs": []
    },
    {
      "cell_type": "code",
      "metadata": {
        "colab": {
          "base_uri": "https://localhost:8080/",
          "height": 281
        },
        "id": "JO6wzP6ONpp-",
        "outputId": "f7562219-22f1-44bb-efb8-c518aa0b179e"
      },
      "source": [
        "for i in range(k):\n",
        "    plt.scatter(final[i+1][:,0],final[i+1][:,1])\n",
        "plt.scatter(allCentroid[0,:],allCentroid[1,:],s=250,c='red')\n",
        "plt.title('Sesudah Clustering')\n",
        "plt.show()"
      ],
      "execution_count": 388,
      "outputs": [
        {
          "output_type": "display_data",
          "data": {
            "image/png": "[encoded data removed]",
            "text/plain": [
              "<Figure size 432x288 with 1 Axes>"
            ]
          },
          "metadata": {
            "needs_background": "light"
          }
        }
      ]
    },
    {
      "cell_type": "code",
      "metadata": {
        "colab": {
          "base_uri": "https://localhost:8080/",
          "height": 336
        },
        "id": "7WpHFmDxYHc_",
        "outputId": "c2e039bf-7c0f-4a15-bc26-0b84aea8e2ff"
      },
      "source": [
        "from sklearn.cluster import KMeans\n",
        "elbow=[]\n",
        "for i in range(1, 20):\n",
        "    kmeans = KMeans(n_clusters = i, init = 'k-means++', random_state = 101)\n",
        "    kmeans.fit(x)\n",
        "    elbow.append(kmeans.inertia_)\n",
        "sns.lineplot(range(1, 20), elbow,color='blue')\n",
        "plt.title('Elbow Method')\n",
        "plt.show()"
      ],
      "execution_count": 377,
      "outputs": [
        {
          "output_type": "stream",
          "name": "stderr",
          "text": [
            "/usr/local/lib/python3.7/dist-packages/seaborn/_decorators.py:43: FutureWarning: Pass the following variables as keyword args: x, y. From version 0.12, the only valid positional argument will be `data`, and passing other arguments without an explicit keyword will result in an error or misinterpretation.\n",
            "  FutureWarning\n"
          ]
        },
        {
          "output_type": "display_data",
          "data": {
            "image/png": "[encoded data removed]",
            "text/plain": [
              "<Figure size 432x288 with 1 Axes>"
            ]
          },
          "metadata": {
            "needs_background": "light"
          }
        }
      ]
    },
    {
      "cell_type": "markdown",
      "metadata": {
        "id": "E6PfeD5f0FMU"
      },
      "source": [
        "Mengevaluasi dengan mengecek menggunakan library KMeans"
      ]
    },
    {
      "cell_type": "code",
      "metadata": {
        "colab": {
          "base_uri": "https://localhost:8080/",
          "height": 283
        },
        "id": "HZcJVZi7ZTnY",
        "outputId": "274807aa-24db-428a-a90b-a9904fcbf7e4"
      },
      "source": [
        "kmeans = KMeans(n_clusters = 3, init = 'k-means++', random_state = 42)\n",
        "data1=dataForUse.values\n",
        "y_test = kmeans.fit_predict(data1)\n",
        "\n",
        "plt.scatter(data1[:, 0], data1[:, 1], c=y_test, cmap='plasma')\n",
        "print(y_test)\n",
        "plt.show()\n",
        "\n"
      ],
      "execution_count": 378,
      "outputs": [
        {
          "output_type": "stream",
          "name": "stdout",
          "text": [
            "[2 0 1 ... 0 2 2]\n"
          ]
        },
        {
          "output_type": "display_data",
          "data": {
            "image/png": "[encoded data removed]",
            "text/plain": [
              "<Figure size 432x288 with 1 Axes>"
            ]
          },
          "metadata": {
            "needs_background": "light"
          }
        }
      ]
    }
  ]
}